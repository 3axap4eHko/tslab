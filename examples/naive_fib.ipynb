{
 "cells": [
  {
   "cell_type": "code",
   "execution_count": null,
   "metadata": {},
   "outputs": [
    {
     "name": "stdout",
     "output_type": "stream",
     "text": [
      "naiveFib(33) = 5702887\n",
      "Took: 3028ms\n"
     ]
    }
   ],
   "source": [
    "function naiveFib(n: number): number {\n",
    "    if (n > 1) {\n",
    "        return naiveFib(n - 1) + naiveFib(n - 2);\n",
    "    }\n",
    "    return 1;\n",
    "}\n",
    "\n",
    "const n = 33;\n",
    "const start = Date.now();\n",
    "console.log(`naiveFib(${n}) = ${naiveFib(n)}`)\n",
    "const end = Date.now();\n",
    "console.log(`Took: ${end - start}ms`)"
   ]
  }
 ],
 "metadata": {
  "kernelspec": {
   "display_name": "TypeScript",
   "language": "typescript",
   "name": "tslab"
  },
  "language_info": {
   "file_extension": ".ts",
   "mimetype": "",
   "name": "javascript",
   "version": ""
  }
 },
 "nbformat": 4,
 "nbformat_minor": 2
}
